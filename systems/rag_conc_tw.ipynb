{
 "cells": [
  {
   "cell_type": "code",
   "execution_count": 3,
   "id": "ac36c8ea",
   "metadata": {},
   "outputs": [],
   "source": [
    "from sentence_transformers import SentenceTransformer\n",
    "import faiss\n",
    "import pickle\n",
    "import numpy"
   ]
  },
  {
   "cell_type": "code",
   "execution_count": 4,
   "id": "2d00e9f3",
   "metadata": {},
   "outputs": [],
   "source": [
    "index = faiss.read_index('doc_index.faiss')\n",
    "with open('doc_split_text.pkl', 'rb') as f:\n",
    "    split_text = pickle.load(f)"
   ]
  },
  {
   "cell_type": "code",
   "execution_count": 3,
   "id": "c79d2ad4",
   "metadata": {},
   "outputs": [],
   "source": [
    "emb_model_path = r\"C:\\Users\\aksha\\.cache\\huggingface\\hub\\models--sentence-transformers--all-MiniLM-L6-v2\\snapshots\\c9745ed1d9f207416be6d2e6f8de32d1f16199bf\""
   ]
  },
  {
   "cell_type": "code",
   "execution_count": 4,
   "id": "90555c79",
   "metadata": {},
   "outputs": [],
   "source": [
    "emb_model = SentenceTransformer(emb_model_path)"
   ]
  },
  {
   "cell_type": "code",
   "execution_count": 5,
   "id": "e49eead9",
   "metadata": {},
   "outputs": [],
   "source": [
    "query = \"What are the main findings from the document\"\n",
    "query_emb = emb_model.encode([query]).astype('float32')"
   ]
  },
  {
   "cell_type": "code",
   "execution_count": 6,
   "id": "dbb4a64e",
   "metadata": {},
   "outputs": [],
   "source": [
    "k = 3 \n",
    "D, I = index.search(query_emb, k)"
   ]
  },
  {
   "cell_type": "code",
   "execution_count": 7,
   "id": "05496c7c",
   "metadata": {},
   "outputs": [],
   "source": [
    "retrieved_chunks = [split_text[i] for i in I[0]]\n",
    "context = \"\\n\\n\".join(retrieved_chunks)"
   ]
  },
  {
   "cell_type": "code",
   "execution_count": 8,
   "id": "a80e2405",
   "metadata": {},
   "outputs": [
    {
     "name": "stdout",
     "output_type": "stream",
     "text": [
      "These publications exemplify TheraCUES' dedication to advancing research in various biomedical fields. For a comprehensive list of their publications and access to full articles, please visit their Publications page.\n",
      "THERACUES, ABOUT: OVERVIEW\n",
      "TheraCUES, whose name combines \"thera\" (therapeutic) and \"CUES\" (signals), is dedicated to advancing translational research in precision medicine. Their mission is to expedite impactful discoveries and therapies to the market by providing top-tier solution\n"
     ]
    }
   ],
   "source": [
    "print(context[:500])"
   ]
  },
  {
   "cell_type": "code",
   "execution_count": 9,
   "id": "348d4266",
   "metadata": {},
   "outputs": [
    {
     "name": "stderr",
     "output_type": "stream",
     "text": [
      "`torch_dtype` is deprecated! Use `dtype` instead!\n",
      "Device set to use cuda:0\n"
     ]
    },
    {
     "name": "stdout",
     "output_type": "stream",
     "text": [
      "🧠 Answer:\n",
      " \n",
      "You are a helpful assistant.\n",
      "Use the following context to answer the question.\n",
      "\n",
      "Context:\n",
      "These publications exemplify TheraCUES' dedication to advancing research in various biomedical fields. For a comprehensive list of their publications and access to full articles, please visit their Publications page.\n",
      "THERACUES, ABOUT: OVERVIEW\n",
      "TheraCUES, whose name combines \"thera\" (therapeutic) and \"CUES\" (signals), is dedicated to advancing translational research in precision medicine. Their mission is to expedite impactful discoveries and therapies to the market by providing top-tier solutions to pharmaceutical companies, academic institutions, and biotech firms.\n",
      "\n",
      "Extraction Services: Understanding the importance of accurate nucleic acid isolation, TheraCUES offers services to ensure RNA and DNA extractions are performed with precision, maintaining integrity and preventing contamination. This service is crucial for the success of molecular biology assays.\n",
      "Custom Solutions: TheraCUES acknowledges that some research projects have unique requirements. They offer high-quality custom solutions, including tailored pipelines, panel design consultations, and customized data analysis, to meet specific research needs. \n",
      "Leadership and Vision\n",
      "Under the leadership of Founder and CEO Dr. Gopalakrishna Ramaswamy, TheraCUES is committed to revolutionizing healthcare through the power of genomics. The company believes that precision medicine can significantly improve people's lives by enabling impactful discoveries and therapies. \n",
      "Client Testimonials\n",
      "\n",
      "Client Testimonials\n",
      "Dr. Amit Singh from the Indian Institute of Science, Bangalore, praised TheraCUES for their professionalism in understanding projects, planning, execution, and data presentation. He described the collaboration as a great learning experience, highlighting the team's humility, friendliness, and knowledge in applying cutting-edge technologies.\n",
      "Similarly, Dr. Padmini Salgame, Professor at the Department of Medicine and Director of the MD/PhD Program at The Public Health Research Institute (PHRI), commended TheraCUES for their services in developing blood-based biomarkers using the nanoString® platform.\n",
      "Contact Information\n",
      "TheraCUES Innovations Pvt. Ltd. is located at B Block, No. 1436, 2nd Floor, Sahakar Nagar, Bangalore, Karnataka 560092. For inquiries, they can be reached via email at cues@theracues.com or by phone at +91 80 48661874.\n",
      "\n",
      "Question: What are the main findings from the document\n",
      "\n",
      "Answer:\n",
      "The main findings from the document are that TheraCUES is a company dedicated to advancing research in precision medicine. They offer extraction services and custom solutions to meet specific research needs. TheraCUES is led by Founder and CEO Dr. Gopalakrishna Ramaswamy, who is committed to revolutionizing healthcare through the power of genomics. The company has received positive client testimonials for their professionalism and expertise in applying cutting-edge technologies. TheraCUES can be reached via email at cues@theracues.com or by phone at +91 80 48661874.\n"
     ]
    }
   ],
   "source": [
    "from transformers import AutoTokenizer, AutoModelForCausalLM, pipeline\n",
    "import torch\n",
    "\n",
    "model_path = r\"C:\\Users\\aksha\\.cache\\huggingface\\hub\\models--unsloth--mistral-7b-instruct-v0.1-bnb-4bit\\snapshots\\ce41ab8056bfc8c399ae1429276920914c3c295e\"\n",
    "\n",
    "tokenizer = AutoTokenizer.from_pretrained(model_path, local_files_only=True)\n",
    "model = AutoModelForCausalLM.from_pretrained(model_path, torch_dtype=torch.float16, device_map=\"auto\", local_files_only=True)\n",
    "\n",
    "pipe = pipeline(\"text-generation\", model=model, tokenizer=tokenizer, device_map=\"auto\")\n",
    "\n",
    "prompt = f\"\"\"\n",
    "You are a helpful assistant.\n",
    "Use the following context to answer the question.\n",
    "\n",
    "Context:\n",
    "{context}\n",
    "\n",
    "Question: {query}\n",
    "\n",
    "Answer:\n",
    "\"\"\"\n",
    "\n",
    "response = pipe(prompt, max_new_tokens=300, temperature=0.3, top_p=0.9)\n",
    "print(\"Answer:\\n\", response[0]['generated_text'])\n"
   ]
  },
  {
   "cell_type": "code",
   "execution_count": null,
   "id": "091428a9",
   "metadata": {},
   "outputs": [],
   "source": [
    "def ask_question(query, top_k=3):\n",
    "\n",
    "    query_emb = emb_model.encode([query]).astype(\"float32\")\n",
    "\n",
    "    D, I = index.search(query_emb, top_k)\n",
    "    retrieved = [split_text[i] for i in I[0]]\n",
    "    context = \"\\n\\n\".join(retrieved)\n",
    "\n",
    "    prompt = f\"\"\"\n",
    "    You are a helpful assistant.\n",
    "    Use the following context to answer the question.\n",
    "\n",
    "    Context:\n",
    "    {context}\n",
    "\n",
    "    Question: {query}\n",
    "\n",
    "    Answer:\n",
    "    \"\"\"\n",
    "\n",
    "    response = pipe(\n",
    "        prompt,\n",
    "        max_new_tokens=300,\n",
    "        temperature=0.3,\n",
    "        top_p=0.9\n",
    "    )[0]['generated_text']\n",
    "\n",
    "    if \"Answer:\" in response:\n",
    "        response = response.split(\"Answer:\")[-1].strip()\n",
    "\n",
    "    return f\"Question: {query}\\n\\nAnswer: {response}\"\n"
   ]
  },
  {
   "cell_type": "code",
   "execution_count": 23,
   "id": "e39f6d24",
   "metadata": {},
   "outputs": [
    {
     "name": "stdout",
     "output_type": "stream",
     "text": [
      "Question: What does nCounter do\n",
      "\n",
      "Answer: nCounter is a technology developed by NanoString that enables the simultaneous measurement of approximately 800 gene expression targets. It offers several advantages over traditional methods like quantitative PCR (qPCR) and next-generation sequencing (NGS), including high throughput, reproducible data, and speed. TheraCUES, a company that utilizes nCounter technology, provides end-to-end assistance in gene expression profiling, from nucleic acid extraction to advanced data analysis, delivering actionable biological insights within 1-3 weeks, depending on sample size and project complexity.\n"
     ]
    }
   ],
   "source": [
    "print(ask_question(\"What does nCounter do\"))"
   ]
  },
  {
   "cell_type": "code",
   "execution_count": null,
   "id": "9a30d12a",
   "metadata": {},
   "outputs": [],
   "source": []
  }
 ],
 "metadata": {
  "kernelspec": {
   "display_name": "Python 3",
   "language": "python",
   "name": "python3"
  },
  "language_info": {
   "codemirror_mode": {
    "name": "ipython",
    "version": 3
   },
   "file_extension": ".py",
   "mimetype": "text/x-python",
   "name": "python",
   "nbconvert_exporter": "python",
   "pygments_lexer": "ipython3",
   "version": "3.12.4"
  }
 },
 "nbformat": 4,
 "nbformat_minor": 5
}
